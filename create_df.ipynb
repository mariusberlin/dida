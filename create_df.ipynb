{
 "cells": [
  {
   "cell_type": "code",
   "execution_count": 7,
   "metadata": {},
   "outputs": [],
   "source": [
    "import os\n",
    "import numpy as np\n",
    "import pandas as pd\n",
    "\n",
    "sample_paths = []\n",
    "rootdir = './labels'\n",
    "rootdirimages = './images'\n",
    "\n",
    "labels = []\n",
    "labels_path = []\n",
    "images_path = []\n",
    "\n",
    "\n",
    "\n",
    "for file in os.listdir(rootdir):\n",
    "        labels.append(file)\n",
    "        \n",
    "        \n",
    "for image in os.listdir(rootdirimages):      \n",
    "    if (image in labels) == True:\n",
    "        labels_path.append('./labels/' + str(image)) \n",
    "        images_path.append('./images/' + str(image))\n"
   ]
  },
  {
   "cell_type": "code",
   "execution_count": null,
   "metadata": {},
   "outputs": [],
   "source": []
  },
  {
   "cell_type": "code",
   "execution_count": 8,
   "metadata": {},
   "outputs": [],
   "source": [
    "#create pd\n",
    "\n",
    "mapping_npy = pd.DataFrame({'image': images_path,\n",
    "                       'label':labels_path}) \n",
    "\n",
    "#save as csv\n",
    "\n",
    "mapping_npy.to_csv('mapping.csv')"
   ]
  },
  {
   "cell_type": "code",
   "execution_count": 9,
   "metadata": {},
   "outputs": [
    {
     "name": "stdout",
     "output_type": "stream",
     "text": [
      "               image             label\n",
      "0   ./images/121.png  ./labels/121.png\n",
      "1   ./images/241.png  ./labels/241.png\n",
      "2   ./images/270.png  ./labels/270.png\n",
      "3   ./images/272.png  ./labels/272.png\n",
      "4   ./images/274.png  ./labels/274.png\n",
      "5   ./images/278.png  ./labels/278.png\n",
      "6   ./images/284.png  ./labels/284.png\n",
      "7   ./images/287.png  ./labels/287.png\n",
      "8   ./images/300.png  ./labels/300.png\n",
      "9   ./images/301.png  ./labels/301.png\n",
      "10  ./images/303.png  ./labels/303.png\n",
      "11  ./images/308.png  ./labels/308.png\n",
      "12  ./images/314.png  ./labels/314.png\n",
      "13  ./images/315.png  ./labels/315.png\n",
      "14  ./images/317.png  ./labels/317.png\n",
      "15  ./images/320.png  ./labels/320.png\n",
      "16  ./images/324.png  ./labels/324.png\n",
      "17  ./images/328.png  ./labels/328.png\n",
      "18  ./images/337.png  ./labels/337.png\n",
      "19  ./images/343.png  ./labels/343.png\n",
      "20  ./images/345.png  ./labels/345.png\n",
      "21  ./images/379.png  ./labels/379.png\n",
      "22  ./images/381.png  ./labels/381.png\n",
      "23  ./images/417.png  ./labels/417.png\n",
      "24  ./images/532.png  ./labels/532.png\n"
     ]
    }
   ],
   "source": [
    "print(mapping_npy)"
   ]
  },
  {
   "cell_type": "code",
   "execution_count": 21,
   "metadata": {},
   "outputs": [
    {
     "name": "stdout",
     "output_type": "stream",
     "text": [
      "(256, 256)\n",
      "42.948638916015625 0 255\n"
     ]
    },
    {
     "ename": "AttributeError",
     "evalue": "'Array' object has no attribute 'show'",
     "output_type": "error",
     "traceback": [
      "\u001b[1;31m---------------------------------------------------------------------------\u001b[0m",
      "\u001b[1;31mAttributeError\u001b[0m                            Traceback (most recent call last)",
      "\u001b[1;32m<ipython-input-21-864c8577f103>\u001b[0m in \u001b[0;36m<module>\u001b[1;34m\u001b[0m\n\u001b[0;32m      4\u001b[0m     \u001b[0mprint\u001b[0m\u001b[1;33m(\u001b[0m\u001b[0mim\u001b[0m\u001b[1;33m.\u001b[0m\u001b[0mshape\u001b[0m\u001b[1;33m)\u001b[0m\u001b[1;33m\u001b[0m\u001b[1;33m\u001b[0m\u001b[0m\n\u001b[0;32m      5\u001b[0m     \u001b[0mprint\u001b[0m\u001b[1;33m(\u001b[0m\u001b[0mnp\u001b[0m\u001b[1;33m.\u001b[0m\u001b[0mmean\u001b[0m\u001b[1;33m(\u001b[0m\u001b[0mim\u001b[0m\u001b[1;33m)\u001b[0m\u001b[1;33m,\u001b[0m\u001b[0mnp\u001b[0m\u001b[1;33m.\u001b[0m\u001b[0mmin\u001b[0m\u001b[1;33m(\u001b[0m\u001b[0mim\u001b[0m\u001b[1;33m)\u001b[0m\u001b[1;33m,\u001b[0m\u001b[0mnp\u001b[0m\u001b[1;33m.\u001b[0m\u001b[0mmax\u001b[0m\u001b[1;33m(\u001b[0m\u001b[0mim\u001b[0m\u001b[1;33m)\u001b[0m\u001b[1;33m)\u001b[0m\u001b[1;33m\u001b[0m\u001b[1;33m\u001b[0m\u001b[0m\n\u001b[1;32m----> 6\u001b[1;33m     \u001b[0mim\u001b[0m\u001b[1;33m.\u001b[0m\u001b[0mshow\u001b[0m\u001b[1;33m\u001b[0m\u001b[1;33m\u001b[0m\u001b[0m\n\u001b[0m",
      "\u001b[1;31mAttributeError\u001b[0m: 'Array' object has no attribute 'show'"
     ]
    }
   ],
   "source": [
    "import imageio\n",
    "for file in mapping_npy['label']:\n",
    "    im = imageio.imread(file)\n",
    "    print(np.)\n",
    "    print(im.shape)\n",
    "    print(np.mean(im),np.min(im),np.max(im))\n",
    "    im.show"
   ]
  },
  {
   "cell_type": "code",
   "execution_count": null,
   "metadata": {},
   "outputs": [],
   "source": []
  }
 ],
 "metadata": {
  "kernelspec": {
   "display_name": "Python 3",
   "language": "python",
   "name": "python3"
  },
  "language_info": {
   "codemirror_mode": {
    "name": "ipython",
    "version": 3
   },
   "file_extension": ".py",
   "mimetype": "text/x-python",
   "name": "python",
   "nbconvert_exporter": "python",
   "pygments_lexer": "ipython3",
   "version": "3.7.6"
  }
 },
 "nbformat": 4,
 "nbformat_minor": 4
}
